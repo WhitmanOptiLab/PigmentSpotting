{
 "cells": [
  {
   "cell_type": "code",
   "execution_count": 1,
   "metadata": {},
   "outputs": [],
   "source": [
    "import sys\n",
    "import os "
   ]
  },
  {
   "cell_type": "code",
   "execution_count": 12,
   "metadata": {},
   "outputs": [],
   "source": [
    "def organize_data(filename):\n",
    "    entries = os.listdir(filename)\n",
    "    organized_data = {}    \n",
    "    for entry in entries:\n",
    "        flower_id, petal_id = \"\", \"\"\n",
    "        flower = True\n",
    "        # for each character in entry\n",
    "        for char in entry: \n",
    "            # flower_id when flag is false; petal_id when flag is true \n",
    "            if flower == True: \n",
    "                if char == \"P\":\n",
    "                    flower = False\n",
    "                    petal_id += \"P\"\n",
    "                    continue \n",
    "                    \n",
    "                flower_id += char \n",
    "            else: \n",
    "                if char == \"_\":\n",
    "                    break\n",
    "                petal_id += char\n",
    "                                \n",
    "        sample_id = flower_id + petal_id\n",
    "        \n",
    "        if sample_id not in organized_data: \n",
    "            \n",
    "            organized_data[sample_id] = {}\n",
    "            \n",
    "            if \"Center\" in entry:\n",
    "                if \"Center\" in organized_data[sample_id]: \n",
    "                    organized_data[sample_id][\"Center\"].append(entry)\n",
    "                else: \n",
    "                    organized_data[sample_id][\"Center\"] = [entry]\n",
    "            elif \"Side1\" in entry: \n",
    "                if \"Side1\" in organized_data[sample_id]: \n",
    "                    organized_data[sample_id][\"Side1\"].append(entry)\n",
    "                else: \n",
    "                    organized_data[sample_id][\"Side1\"] = [entry] \n",
    "            elif \"Side2\" in entry: \n",
    "                if \"Side2\" in organized_data[sample_id]: \n",
    "                    organized_data[sample_id][\"Side2\"].append(entry)\n",
    "                else: \n",
    "                    organized_data[sample_id][\"Side2\"] = [entry]\n",
    "        else:\n",
    "            if \"Center\" in entry:\n",
    "                if \"Center\" in organized_data[sample_id]: \n",
    "                    organized_data[sample_id][\"Center\"].append(entry)\n",
    "                else: \n",
    "                    organized_data[sample_id][\"Center\"] = [entry]\n",
    "            elif \"Side1\" in entry: \n",
    "                if \"Side1\" in organized_data[sample_id]: \n",
    "                    organized_data[sample_id][\"Side1\"].append(entry)\n",
    "                else: \n",
    "                    organized_data[sample_id][\"Side1\"] = [entry] \n",
    "            elif \"Side2\" in entry: \n",
    "                if \"Side2\" in organized_data[sample_id]: \n",
    "                    organized_data[sample_id][\"Side2\"].append(entry)\n",
    "                else: \n",
    "                    organized_data[sample_id][\"Side2\"] = [entry]\n",
    "\n",
    "    return organized_data\n",
    "    "
   ]
  },
  {
   "cell_type": "code",
   "execution_count": 13,
   "metadata": {},
   "outputs": [
    {
     "data": {
      "text/plain": [
       "{'F2P15': {'Center': ['F2P15_Spot_Center_200627.JPG',\n",
       "   'F2P15_Vein_Center_200701.jpg'],\n",
       "  'Side1': ['F2P15_Spot_Side1_200627.JPG', 'F2P15_Vein_Side1_200701.jpg'],\n",
       "  'Side2': ['F2P15_Spot_Side2_200627.JPG', 'F2P15_Vein_Side2_200701.jpg']},\n",
       " 'F2P3': {'Center': ['F2P3_Spot_Center_200706.JPG',\n",
       "   'F2P3_Vein_Center_200708.jpg'],\n",
       "  'Side1': ['F2P3_Spot_Side1_200706.JPG', 'F2P3_Vein_Side1_200708.jpg'],\n",
       "  'Side2': ['F2P3_Spot_Side2_200706.JPG', 'F2P3_Vein_Side2_200708.jpg']},\n",
       " 'F2P89': {'Center': ['F2P89_Spot_Center_200715.JPG',\n",
       "   'F2P89_Vein_Center_200720.jpg']},\n",
       " 'F3P11': {'Center': ['F3P11_Spot_Center_200720.JPG',\n",
       "   'F3P11_Vein_Center_200720.jpg']},\n",
       " 'F4P11': {'Center': ['F4P11_Spot_Center_200722.JPG',\n",
       "   'F4P11_Vein_Center_200722.jpg']},\n",
       " 'F4P3': {'Center': ['F4P3_Spot_Center_200804.JPG',\n",
       "   'F4P3_Vein_Center_200806.jpg'],\n",
       "  'Side1': ['F4P3_Spot_Side1_200804.JPG', 'F4P3_Vein_Side1_200806.jpg'],\n",
       "  'Side2': ['F4P3_Spot_Side2_200804.JPG', 'F4P3_Vein_Side2_200806.jpg']}}"
      ]
     },
     "execution_count": 13,
     "metadata": {},
     "output_type": "execute_result"
    }
   ],
   "source": [
    "filename = \"database/\"\n",
    "process_directory(filename)\n",
    "\n",
    "\n"
   ]
  },
  {
   "cell_type": "code",
   "execution_count": null,
   "metadata": {},
   "outputs": [],
   "source": []
  }
 ],
 "metadata": {
  "kernelspec": {
   "display_name": "Python 3",
   "language": "python",
   "name": "python3"
  },
  "language_info": {
   "codemirror_mode": {
    "name": "ipython",
    "version": 3
   },
   "file_extension": ".py",
   "mimetype": "text/x-python",
   "name": "python",
   "nbconvert_exporter": "python",
   "pygments_lexer": "ipython3",
   "version": "3.8.5"
  }
 },
 "nbformat": 4,
 "nbformat_minor": 4
}
