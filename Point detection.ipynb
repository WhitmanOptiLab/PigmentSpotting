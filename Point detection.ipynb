{
 "cells": [
  {
   "cell_type": "code",
   "execution_count": 23,
   "metadata": {},
   "outputs": [],
   "source": [
    "import numpy as np \n",
    "import cv2 "
   ]
  },
  {
   "cell_type": "code",
   "execution_count": 24,
   "metadata": {},
   "outputs": [],
   "source": [
    "# global variables: \n",
    "x_coordinate, y_coordinate = 0, 0\n",
    "points = [] \n",
    "downscale_percent = 0.75\n",
    "upscale_percent = 1/0.75"
   ]
  },
  {
   "cell_type": "code",
   "execution_count": 25,
   "metadata": {},
   "outputs": [],
   "source": [
    "def scale_img(img, scaling_percent):\n",
    "    width, height =  int(img.shape[0]*scaling_percent), int(img.shape[1]*scaling_percent)\n",
    "    dimensions = (height, width)\n",
    "    scaled_img = cv2.resize(img, dimensions, interpolation = cv2.INTER_AREA)\n",
    "    return scaled_img\n",
    "    "
   ]
  },
  {
   "cell_type": "code",
   "execution_count": 26,
   "metadata": {},
   "outputs": [],
   "source": [
    "def detect_centeral_vein(event, x, y, flags, param):\n",
    "    if event == cv2.EVENT_LBUTTONDOWN:\n",
    "        x_coordinate, y_coordinate = int(x * upscale_percent), int(y*upscale_percent)\n",
    "        points.append((x_coordinate, y_coordinate))\n",
    "        print(points)\n",
    "        print(x,y)\n",
    "        \n",
    "   "
   ]
  },
  {
   "cell_type": "code",
   "execution_count": 27,
   "metadata": {},
   "outputs": [
    {
     "name": "stdout",
     "output_type": "stream",
     "text": [
      "[(596, 116)]\n",
      "447 87\n",
      "[(596, 116), (470, 1032)]\n",
      "353 774\n"
     ]
    }
   ],
   "source": [
    "img = cv2.imread('..\\images\\Test1.jpg')\n",
    "dimg = scale_img(img, downscale_percent)\n",
    "cv2.imshow(\"Selected Image\", dimg)\n",
    "\n",
    "cv2.setMouseCallback(\"Selected Image\", detect_centeral_vein)\n",
    "cv2.waitKey(0)\n",
    "cv2.destroyAllWindows()\n",
    "# Debugging \n",
    "for center in points:\n",
    "    center_coordinates, radius, color, thickness = center, 2, (255,255,255), 3\n",
    "    img = cv2.circle(img, center_coordinates, radius, color, thickness)\n",
    "    \n",
    "cv2.imshow(\"Image\", img)\n",
    "cv2.waitKey(0)\n",
    "cv2.destroyAllWindows()\n",
    "\n",
    "# We should have a tool that can show the image and its annotations. "
   ]
  },
  {
   "cell_type": "code",
   "execution_count": null,
   "metadata": {},
   "outputs": [],
   "source": []
  },
  {
   "cell_type": "code",
   "execution_count": null,
   "metadata": {},
   "outputs": [],
   "source": []
  }
 ],
 "metadata": {
  "kernelspec": {
   "display_name": "Python 3",
   "language": "python",
   "name": "python3"
  },
  "language_info": {
   "codemirror_mode": {
    "name": "ipython",
    "version": 3
   },
   "file_extension": ".py",
   "mimetype": "text/x-python",
   "name": "python",
   "nbconvert_exporter": "python",
   "pygments_lexer": "ipython3",
   "version": "3.8.5"
  }
 },
 "nbformat": 4,
 "nbformat_minor": 4
}
